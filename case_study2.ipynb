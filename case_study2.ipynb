{
 "cells": [
  {
   "cell_type": "code",
   "execution_count": 5,
   "id": "5168d99a",
   "metadata": {},
   "outputs": [],
   "source": [
    "import numpy as np\n",
    "import pandas as pd\n",
    "import matplotlib.pyplot as plt\n",
    "import seaborn as sns\n",
    "%matplotlib inline\n",
    "\n",
    "import warnings\n",
    "warnings.filterwarnings(\"ignore\")"
   ]
  },
  {
   "cell_type": "code",
   "execution_count": 6,
   "id": "a800eaa1",
   "metadata": {},
   "outputs": [],
   "source": [
    "data=pd.read_csv('StudentsPerformance.csv')"
   ]
  },
  {
   "cell_type": "code",
   "execution_count": 3,
   "id": "bfac4dae",
   "metadata": {},
   "outputs": [
    {
     "data": {
      "text/html": [
       "<div>\n",
       "<style scoped>\n",
       "    .dataframe tbody tr th:only-of-type {\n",
       "        vertical-align: middle;\n",
       "    }\n",
       "\n",
       "    .dataframe tbody tr th {\n",
       "        vertical-align: top;\n",
       "    }\n",
       "\n",
       "    .dataframe thead th {\n",
       "        text-align: right;\n",
       "    }\n",
       "</style>\n",
       "<table border=\"1\" class=\"dataframe\">\n",
       "  <thead>\n",
       "    <tr style=\"text-align: right;\">\n",
       "      <th></th>\n",
       "      <th>gender</th>\n",
       "      <th>race/ethnicity</th>\n",
       "      <th>parental level of education</th>\n",
       "      <th>lunch</th>\n",
       "      <th>test preparation course</th>\n",
       "      <th>math score</th>\n",
       "      <th>reading score</th>\n",
       "      <th>writing score</th>\n",
       "    </tr>\n",
       "  </thead>\n",
       "  <tbody>\n",
       "    <tr>\n",
       "      <th>0</th>\n",
       "      <td>female</td>\n",
       "      <td>group C</td>\n",
       "      <td>some high school</td>\n",
       "      <td>free/reduced</td>\n",
       "      <td>none</td>\n",
       "      <td>0</td>\n",
       "      <td>17</td>\n",
       "      <td>10</td>\n",
       "    </tr>\n",
       "    <tr>\n",
       "      <th>1</th>\n",
       "      <td>female</td>\n",
       "      <td>group B</td>\n",
       "      <td>high school</td>\n",
       "      <td>free/reduced</td>\n",
       "      <td>none</td>\n",
       "      <td>8</td>\n",
       "      <td>24</td>\n",
       "      <td>23</td>\n",
       "    </tr>\n",
       "    <tr>\n",
       "      <th>2</th>\n",
       "      <td>female</td>\n",
       "      <td>group B</td>\n",
       "      <td>some high school</td>\n",
       "      <td>free/reduced</td>\n",
       "      <td>none</td>\n",
       "      <td>18</td>\n",
       "      <td>32</td>\n",
       "      <td>28</td>\n",
       "    </tr>\n",
       "    <tr>\n",
       "      <th>3</th>\n",
       "      <td>female</td>\n",
       "      <td>group B</td>\n",
       "      <td>some college</td>\n",
       "      <td>standard</td>\n",
       "      <td>none</td>\n",
       "      <td>11</td>\n",
       "      <td>38</td>\n",
       "      <td>32</td>\n",
       "    </tr>\n",
       "    <tr>\n",
       "      <th>4</th>\n",
       "      <td>female</td>\n",
       "      <td>group C</td>\n",
       "      <td>some college</td>\n",
       "      <td>free/reduced</td>\n",
       "      <td>none</td>\n",
       "      <td>22</td>\n",
       "      <td>39</td>\n",
       "      <td>33</td>\n",
       "    </tr>\n",
       "    <tr>\n",
       "      <th>...</th>\n",
       "      <td>...</td>\n",
       "      <td>...</td>\n",
       "      <td>...</td>\n",
       "      <td>...</td>\n",
       "      <td>...</td>\n",
       "      <td>...</td>\n",
       "      <td>...</td>\n",
       "      <td>...</td>\n",
       "    </tr>\n",
       "    <tr>\n",
       "      <th>995</th>\n",
       "      <td>male</td>\n",
       "      <td>group E</td>\n",
       "      <td>some college</td>\n",
       "      <td>standard</td>\n",
       "      <td>completed</td>\n",
       "      <td>99</td>\n",
       "      <td>87</td>\n",
       "      <td>81</td>\n",
       "    </tr>\n",
       "    <tr>\n",
       "      <th>996</th>\n",
       "      <td>male</td>\n",
       "      <td>group A</td>\n",
       "      <td>some college</td>\n",
       "      <td>standard</td>\n",
       "      <td>completed</td>\n",
       "      <td>100</td>\n",
       "      <td>96</td>\n",
       "      <td>86</td>\n",
       "    </tr>\n",
       "    <tr>\n",
       "      <th>997</th>\n",
       "      <td>male</td>\n",
       "      <td>group D</td>\n",
       "      <td>some college</td>\n",
       "      <td>standard</td>\n",
       "      <td>completed</td>\n",
       "      <td>100</td>\n",
       "      <td>97</td>\n",
       "      <td>99</td>\n",
       "    </tr>\n",
       "    <tr>\n",
       "      <th>998</th>\n",
       "      <td>male</td>\n",
       "      <td>group E</td>\n",
       "      <td>associate's degree</td>\n",
       "      <td>free/reduced</td>\n",
       "      <td>completed</td>\n",
       "      <td>100</td>\n",
       "      <td>100</td>\n",
       "      <td>93</td>\n",
       "    </tr>\n",
       "    <tr>\n",
       "      <th>999</th>\n",
       "      <td>male</td>\n",
       "      <td>group E</td>\n",
       "      <td>bachelor's degree</td>\n",
       "      <td>standard</td>\n",
       "      <td>completed</td>\n",
       "      <td>100</td>\n",
       "      <td>100</td>\n",
       "      <td>100</td>\n",
       "    </tr>\n",
       "  </tbody>\n",
       "</table>\n",
       "<p>1000 rows × 8 columns</p>\n",
       "</div>"
      ],
      "text/plain": [
       "     gender race/ethnicity parental level of education         lunch  \\\n",
       "0    female        group C            some high school  free/reduced   \n",
       "1    female        group B                 high school  free/reduced   \n",
       "2    female        group B            some high school  free/reduced   \n",
       "3    female        group B                some college      standard   \n",
       "4    female        group C                some college  free/reduced   \n",
       "..      ...            ...                         ...           ...   \n",
       "995    male        group E                some college      standard   \n",
       "996    male        group A                some college      standard   \n",
       "997    male        group D                some college      standard   \n",
       "998    male        group E          associate's degree  free/reduced   \n",
       "999    male        group E           bachelor's degree      standard   \n",
       "\n",
       "    test preparation course  math score  reading score  writing score  \n",
       "0                      none           0             17             10  \n",
       "1                      none           8             24             23  \n",
       "2                      none          18             32             28  \n",
       "3                      none          11             38             32  \n",
       "4                      none          22             39             33  \n",
       "..                      ...         ...            ...            ...  \n",
       "995               completed          99             87             81  \n",
       "996               completed         100             96             86  \n",
       "997               completed         100             97             99  \n",
       "998               completed         100            100             93  \n",
       "999               completed         100            100            100  \n",
       "\n",
       "[1000 rows x 8 columns]"
      ]
     },
     "execution_count": 3,
     "metadata": {},
     "output_type": "execute_result"
    }
   ],
   "source": [
    "data"
   ]
  },
  {
   "cell_type": "markdown",
   "id": "562f6404",
   "metadata": {},
   "source": [
    "# 1. Find out how many males and females participated in the test."
   ]
  },
  {
   "cell_type": "code",
   "execution_count": 4,
   "id": "9eb291e4",
   "metadata": {},
   "outputs": [
    {
     "data": {
      "text/plain": [
       "female    518\n",
       "male      482\n",
       "Name: gender, dtype: int64"
      ]
     },
     "execution_count": 4,
     "metadata": {},
     "output_type": "execute_result"
    }
   ],
   "source": [
    "data['gender'].value_counts()"
   ]
  },
  {
   "cell_type": "markdown",
   "id": "60e522fc",
   "metadata": {},
   "source": [
    "# 2. What do you think about the students' parental level of education?"
   ]
  },
  {
   "cell_type": "code",
   "execution_count": 6,
   "id": "3894b966",
   "metadata": {},
   "outputs": [
    {
     "data": {
      "text/plain": [
       "some college          226\n",
       "associate's degree    222\n",
       "high school           196\n",
       "some high school      179\n",
       "bachelor's degree     118\n",
       "master's degree        59\n",
       "Name: parental level of education, dtype: int64"
      ]
     },
     "execution_count": 6,
     "metadata": {},
     "output_type": "execute_result"
    }
   ],
   "source": [
    "data['parental level of education'].value_counts()"
   ]
  },
  {
   "cell_type": "markdown",
   "id": "e72f7f64",
   "metadata": {},
   "source": [
    "Most of the Students have educational level of some college and least have a Master's Degree."
   ]
  },
  {
   "cell_type": "markdown",
   "id": "9e2f49c1",
   "metadata": {},
   "source": [
    "# 3. Who scores the most on average for math, reading and writing based on"
   ]
  },
  {
   "cell_type": "markdown",
   "id": "69db6b34",
   "metadata": {},
   "source": [
    "# ● Gender"
   ]
  },
  {
   "cell_type": "code",
   "execution_count": 9,
   "id": "2e493cf4",
   "metadata": {},
   "outputs": [],
   "source": [
    "data2=data.groupby('gender')['math score'].mean()"
   ]
  },
  {
   "cell_type": "code",
   "execution_count": 10,
   "id": "f93d9744",
   "metadata": {},
   "outputs": [
    {
     "data": {
      "text/plain": [
       "gender\n",
       "female    63.376448\n",
       "male      68.821577\n",
       "Name: math score, dtype: float64"
      ]
     },
     "execution_count": 10,
     "metadata": {},
     "output_type": "execute_result"
    }
   ],
   "source": [
    "data2"
   ]
  },
  {
   "cell_type": "markdown",
   "id": "a7db4e24",
   "metadata": {},
   "source": [
    "Females score more on average for math"
   ]
  },
  {
   "cell_type": "code",
   "execution_count": 12,
   "id": "7a27853e",
   "metadata": {},
   "outputs": [],
   "source": [
    "data3=data.groupby('gender')['reading score'].mean()"
   ]
  },
  {
   "cell_type": "code",
   "execution_count": 13,
   "id": "faf5a6ef",
   "metadata": {},
   "outputs": [
    {
     "data": {
      "text/plain": [
       "gender\n",
       "female    72.590734\n",
       "male      65.545643\n",
       "Name: reading score, dtype: float64"
      ]
     },
     "execution_count": 13,
     "metadata": {},
     "output_type": "execute_result"
    }
   ],
   "source": [
    "data3"
   ]
  },
  {
   "cell_type": "markdown",
   "id": "f7a4d36c",
   "metadata": {},
   "source": [
    "females score more on average for reading"
   ]
  },
  {
   "cell_type": "code",
   "execution_count": 14,
   "id": "c23f3c4e",
   "metadata": {},
   "outputs": [],
   "source": [
    "data4=data.groupby('gender')['writing score'].mean()"
   ]
  },
  {
   "cell_type": "code",
   "execution_count": 15,
   "id": "769ed56a",
   "metadata": {},
   "outputs": [
    {
     "data": {
      "text/plain": [
       "gender\n",
       "female    72.467181\n",
       "male      63.446058\n",
       "Name: writing score, dtype: float64"
      ]
     },
     "execution_count": 15,
     "metadata": {},
     "output_type": "execute_result"
    }
   ],
   "source": [
    "data4"
   ]
  },
  {
   "cell_type": "markdown",
   "id": "29b1019a",
   "metadata": {},
   "source": [
    "Females score more on average for writing.\n",
    "Females score more on average overall"
   ]
  },
  {
   "cell_type": "markdown",
   "id": "bc12715f",
   "metadata": {},
   "source": [
    "# ● Test preparation course"
   ]
  },
  {
   "cell_type": "code",
   "execution_count": 16,
   "id": "167bd2d1",
   "metadata": {},
   "outputs": [],
   "source": [
    "prep=data.groupby('test preparation course')['math score'].mean()"
   ]
  },
  {
   "cell_type": "code",
   "execution_count": 17,
   "id": "07e7fb29",
   "metadata": {},
   "outputs": [
    {
     "data": {
      "text/plain": [
       "test preparation course\n",
       "completed    69.96648\n",
       "none         63.78972\n",
       "Name: math score, dtype: float64"
      ]
     },
     "execution_count": 17,
     "metadata": {},
     "output_type": "execute_result"
    }
   ],
   "source": [
    "prep"
   ]
  },
  {
   "cell_type": "markdown",
   "id": "2c0e9267",
   "metadata": {},
   "source": [
    "Those who completed the test preparation course scores more on average in math"
   ]
  },
  {
   "cell_type": "code",
   "execution_count": 18,
   "id": "7ffcc3ea",
   "metadata": {},
   "outputs": [],
   "source": [
    "prep2=data.groupby('test preparation course')['reading score'].mean()"
   ]
  },
  {
   "cell_type": "code",
   "execution_count": 19,
   "id": "2eb893e2",
   "metadata": {},
   "outputs": [
    {
     "data": {
      "text/plain": [
       "test preparation course\n",
       "completed    74.175978\n",
       "none         66.417445\n",
       "Name: reading score, dtype: float64"
      ]
     },
     "execution_count": 19,
     "metadata": {},
     "output_type": "execute_result"
    }
   ],
   "source": [
    "prep2"
   ]
  },
  {
   "cell_type": "markdown",
   "id": "2df3ef72",
   "metadata": {},
   "source": [
    "Those who completed the test preparation course scores more on average in reading."
   ]
  },
  {
   "cell_type": "code",
   "execution_count": 20,
   "id": "45d29281",
   "metadata": {},
   "outputs": [],
   "source": [
    "prep3=data.groupby('test preparation course')['writing score'].mean()"
   ]
  },
  {
   "cell_type": "code",
   "execution_count": 21,
   "id": "b7c29f61",
   "metadata": {},
   "outputs": [
    {
     "data": {
      "text/plain": [
       "test preparation course\n",
       "completed    74.684358\n",
       "none         64.457944\n",
       "Name: writing score, dtype: float64"
      ]
     },
     "execution_count": 21,
     "metadata": {},
     "output_type": "execute_result"
    }
   ],
   "source": [
    "prep3"
   ]
  },
  {
   "cell_type": "markdown",
   "id": "03a1f11d",
   "metadata": {},
   "source": [
    "Those who completed the test preparation course scores more on average in writing.\n",
    "Those who completed the test preparation course scores more on average overall"
   ]
  },
  {
   "cell_type": "markdown",
   "id": "f24deee5",
   "metadata": {},
   "source": [
    "# 4. What do you think about the scoring variation for math, reading and writing\n",
    "\n"
   ]
  },
  {
   "cell_type": "markdown",
   "id": "14692bdf",
   "metadata": {},
   "source": [
    "# Based on Gender"
   ]
  },
  {
   "cell_type": "code",
   "execution_count": 22,
   "id": "d7cd30e8",
   "metadata": {},
   "outputs": [],
   "source": [
    "vargm=data.groupby('gender')['math score'].std()"
   ]
  },
  {
   "cell_type": "code",
   "execution_count": 23,
   "id": "83f2c23b",
   "metadata": {},
   "outputs": [
    {
     "data": {
      "text/plain": [
       "gender\n",
       "female    16.029928\n",
       "male      14.556411\n",
       "Name: math score, dtype: float64"
      ]
     },
     "execution_count": 23,
     "metadata": {},
     "output_type": "execute_result"
    }
   ],
   "source": [
    "vargm"
   ]
  },
  {
   "cell_type": "markdown",
   "id": "dbc2190e",
   "metadata": {},
   "source": [
    "Variation is slightly more in females in math score "
   ]
  },
  {
   "cell_type": "code",
   "execution_count": 7,
   "id": "98ffb5ba",
   "metadata": {},
   "outputs": [],
   "source": [
    "vargr=data.groupby('gender')['reading score'].std()"
   ]
  },
  {
   "cell_type": "code",
   "execution_count": 8,
   "id": "b7083429",
   "metadata": {},
   "outputs": [
    {
     "data": {
      "text/plain": [
       "gender\n",
       "female    14.411018\n",
       "male      14.149594\n",
       "Name: reading score, dtype: float64"
      ]
     },
     "execution_count": 8,
     "metadata": {},
     "output_type": "execute_result"
    }
   ],
   "source": [
    "vargr"
   ]
  },
  {
   "cell_type": "markdown",
   "id": "42670bdf",
   "metadata": {},
   "source": [
    "Variation is almost same for both males and females.But Females has slightly more variation in reading score"
   ]
  },
  {
   "cell_type": "code",
   "execution_count": 9,
   "id": "feed10ee",
   "metadata": {},
   "outputs": [],
   "source": [
    "vargw=data.groupby('gender')['writing score'].std()"
   ]
  },
  {
   "cell_type": "code",
   "execution_count": 10,
   "id": "eac1677e",
   "metadata": {},
   "outputs": [
    {
     "data": {
      "text/plain": [
       "gender\n",
       "female    14.844842\n",
       "male      14.227225\n",
       "Name: writing score, dtype: float64"
      ]
     },
     "execution_count": 10,
     "metadata": {},
     "output_type": "execute_result"
    }
   ],
   "source": [
    "vargw"
   ]
  },
  {
   "cell_type": "markdown",
   "id": "05f5fd29",
   "metadata": {},
   "source": [
    "Variation is almost same for both males and females.But Females has slightly more variation in writing score. Overall females have more variation, But it is a very small variation"
   ]
  },
  {
   "cell_type": "markdown",
   "id": "66954e9d",
   "metadata": {},
   "source": [
    "# Based on Test preparation course"
   ]
  },
  {
   "cell_type": "code",
   "execution_count": 11,
   "id": "724ab6f5",
   "metadata": {},
   "outputs": [],
   "source": [
    "vartm=data.groupby('test preparation course')['math score'].std()"
   ]
  },
  {
   "cell_type": "code",
   "execution_count": 12,
   "id": "9b4a813f",
   "metadata": {},
   "outputs": [
    {
     "data": {
      "text/plain": [
       "test preparation course\n",
       "completed    14.521847\n",
       "none         15.705689\n",
       "Name: math score, dtype: float64"
      ]
     },
     "execution_count": 12,
     "metadata": {},
     "output_type": "execute_result"
    }
   ],
   "source": [
    "vartm"
   ]
  },
  {
   "cell_type": "markdown",
   "id": "cffdc620",
   "metadata": {},
   "source": [
    "The persons who didn't do the test prepation course has slightly more variation in math score. "
   ]
  },
  {
   "cell_type": "code",
   "execution_count": 13,
   "id": "b6afb893",
   "metadata": {},
   "outputs": [],
   "source": [
    "vartr=data.groupby('test preparation course')['reading score'].std()"
   ]
  },
  {
   "cell_type": "code",
   "execution_count": 14,
   "id": "b106a9f7",
   "metadata": {},
   "outputs": [
    {
     "data": {
      "text/plain": [
       "test preparation course\n",
       "completed    13.537572\n",
       "none         14.608896\n",
       "Name: reading score, dtype: float64"
      ]
     },
     "execution_count": 14,
     "metadata": {},
     "output_type": "execute_result"
    }
   ],
   "source": [
    "vartr"
   ]
  },
  {
   "cell_type": "markdown",
   "id": "4fbb0ced",
   "metadata": {},
   "source": [
    "The persons who didn't do the test prepation course has slightly more variation in reading score."
   ]
  },
  {
   "cell_type": "code",
   "execution_count": 15,
   "id": "6597eedc",
   "metadata": {},
   "outputs": [],
   "source": [
    "vartw=data.groupby('test preparation course')['writing score'].std()"
   ]
  },
  {
   "cell_type": "code",
   "execution_count": 16,
   "id": "cd61a0e9",
   "metadata": {},
   "outputs": [
    {
     "data": {
      "text/plain": [
       "test preparation course\n",
       "completed    13.236412\n",
       "none         15.041667\n",
       "Name: writing score, dtype: float64"
      ]
     },
     "execution_count": 16,
     "metadata": {},
     "output_type": "execute_result"
    }
   ],
   "source": [
    "vartw"
   ]
  },
  {
   "cell_type": "markdown",
   "id": "16d5b7cd",
   "metadata": {},
   "source": [
    "The persons who didn't do the test prepation course has slightly more variation in writing score. The persons who didn't do the test prepation course has slightly more variation overall."
   ]
  },
  {
   "cell_type": "markdown",
   "id": "c573fde6",
   "metadata": {},
   "source": [
    "# 5. The management needs your help to give bonus points to the top 25% of\n",
    "\n"
   ]
  },
  {
   "cell_type": "markdown",
   "id": "a2cd57c6",
   "metadata": {},
   "source": [
    "# students based on their maths score, so how will you help the management to achieve this.\n"
   ]
  },
  {
   "cell_type": "code",
   "execution_count": 38,
   "id": "7d602bfc",
   "metadata": {},
   "outputs": [],
   "source": [
    "top=data['math score']"
   ]
  },
  {
   "cell_type": "code",
   "execution_count": 25,
   "id": "58994d74",
   "metadata": {},
   "outputs": [
    {
     "data": {
      "text/plain": [
       "0        0\n",
       "1        8\n",
       "2       18\n",
       "3       11\n",
       "4       22\n",
       "      ... \n",
       "995     99\n",
       "996    100\n",
       "997    100\n",
       "998    100\n",
       "999    100\n",
       "Name: math score, Length: 1000, dtype: int64"
      ]
     },
     "execution_count": 25,
     "metadata": {},
     "output_type": "execute_result"
    }
   ],
   "source": [
    "top"
   ]
  },
  {
   "cell_type": "code",
   "execution_count": 33,
   "id": "ee6b47a5",
   "metadata": {},
   "outputs": [],
   "source": [
    "top25=top.sort_values().tail(250)"
   ]
  },
  {
   "cell_type": "code",
   "execution_count": 34,
   "id": "98a9dee3",
   "metadata": {},
   "outputs": [
    {
     "data": {
      "text/plain": [
       "852     77\n",
       "853     77\n",
       "854     77\n",
       "855     77\n",
       "856     77\n",
       "      ... \n",
       "516    100\n",
       "998    100\n",
       "515    100\n",
       "517    100\n",
       "999    100\n",
       "Name: math score, Length: 250, dtype: int64"
      ]
     },
     "execution_count": 34,
     "metadata": {},
     "output_type": "execute_result"
    }
   ],
   "source": [
    "top25"
   ]
  },
  {
   "cell_type": "markdown",
   "id": "9644defd",
   "metadata": {},
   "source": [
    "The students having these SI numbers in the dataset are the top 25% in math score. 77 is the least score and 100 is the high score in the top 25%."
   ]
  },
  {
   "cell_type": "code",
   "execution_count": null,
   "id": "e5a840a2",
   "metadata": {},
   "outputs": [],
   "source": []
  }
 ],
 "metadata": {
  "kernelspec": {
   "display_name": "Python 3 (ipykernel)",
   "language": "python",
   "name": "python3"
  },
  "language_info": {
   "codemirror_mode": {
    "name": "ipython",
    "version": 3
   },
   "file_extension": ".py",
   "mimetype": "text/x-python",
   "name": "python",
   "nbconvert_exporter": "python",
   "pygments_lexer": "ipython3",
   "version": "3.8.8"
  }
 },
 "nbformat": 4,
 "nbformat_minor": 5
}
